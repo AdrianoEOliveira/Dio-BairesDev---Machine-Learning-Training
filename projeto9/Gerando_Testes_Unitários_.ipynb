{
  "nbformat": 4,
  "nbformat_minor": 0,
  "metadata": {
    "colab": {
      "provenance": []
    },
    "kernelspec": {
      "name": "python3",
      "display_name": "Python 3"
    },
    "language_info": {
      "name": "python"
    }
  },
  "cells": [
    {
      "cell_type": "markdown",
      "source": [
        "# Sistema de Geração de Testes Unitários com Google Gemini\n",
        "\n",
        "## 1. Instalar dependências\n",
        "\n",
        "execute o comando abaixo para instalar as bibliotecas essenciais para a aplicação:\n"
      ],
      "metadata": {
        "id": "APy7QtsS-3tB"
      }
    },
    {
      "cell_type": "code",
      "execution_count": null,
      "metadata": {
        "colab": {
          "base_uri": "https://localhost:8080/"
        },
        "id": "ZGO_9WpLkukH",
        "outputId": "4a07f11e-12b6-42a7-b9c8-258b58c4e549"
      },
      "outputs": [
        {
          "output_type": "stream",
          "name": "stdout",
          "text": [
            "Requirement already satisfied: google-generativeai in /usr/local/lib/python3.12/dist-packages (0.8.5)\n",
            "Requirement already satisfied: pytest in /usr/local/lib/python3.12/dist-packages (8.4.2)\n",
            "Requirement already satisfied: google-ai-generativelanguage==0.6.15 in /usr/local/lib/python3.12/dist-packages (from google-generativeai) (0.6.15)\n",
            "Requirement already satisfied: google-api-core in /usr/local/lib/python3.12/dist-packages (from google-generativeai) (2.25.1)\n",
            "Requirement already satisfied: google-api-python-client in /usr/local/lib/python3.12/dist-packages (from google-generativeai) (2.181.0)\n",
            "Requirement already satisfied: google-auth>=2.15.0 in /usr/local/lib/python3.12/dist-packages (from google-generativeai) (2.38.0)\n",
            "Requirement already satisfied: protobuf in /usr/local/lib/python3.12/dist-packages (from google-generativeai) (5.29.5)\n",
            "Requirement already satisfied: pydantic in /usr/local/lib/python3.12/dist-packages (from google-generativeai) (2.11.7)\n",
            "Requirement already satisfied: tqdm in /usr/local/lib/python3.12/dist-packages (from google-generativeai) (4.67.1)\n",
            "Requirement already satisfied: typing-extensions in /usr/local/lib/python3.12/dist-packages (from google-generativeai) (4.15.0)\n",
            "Requirement already satisfied: proto-plus<2.0.0dev,>=1.22.3 in /usr/local/lib/python3.12/dist-packages (from google-ai-generativelanguage==0.6.15->google-generativeai) (1.26.1)\n",
            "Requirement already satisfied: iniconfig>=1 in /usr/local/lib/python3.12/dist-packages (from pytest) (2.1.0)\n",
            "Requirement already satisfied: packaging>=20 in /usr/local/lib/python3.12/dist-packages (from pytest) (25.0)\n",
            "Requirement already satisfied: pluggy<2,>=1.5 in /usr/local/lib/python3.12/dist-packages (from pytest) (1.6.0)\n",
            "Requirement already satisfied: pygments>=2.7.2 in /usr/local/lib/python3.12/dist-packages (from pytest) (2.19.2)\n",
            "Requirement already satisfied: googleapis-common-protos<2.0.0,>=1.56.2 in /usr/local/lib/python3.12/dist-packages (from google-api-core->google-generativeai) (1.70.0)\n",
            "Requirement already satisfied: requests<3.0.0,>=2.18.0 in /usr/local/lib/python3.12/dist-packages (from google-api-core->google-generativeai) (2.32.4)\n",
            "Requirement already satisfied: cachetools<6.0,>=2.0.0 in /usr/local/lib/python3.12/dist-packages (from google-auth>=2.15.0->google-generativeai) (5.5.2)\n",
            "Requirement already satisfied: pyasn1-modules>=0.2.1 in /usr/local/lib/python3.12/dist-packages (from google-auth>=2.15.0->google-generativeai) (0.4.2)\n",
            "Requirement already satisfied: rsa<5,>=3.1.4 in /usr/local/lib/python3.12/dist-packages (from google-auth>=2.15.0->google-generativeai) (4.9.1)\n",
            "Requirement already satisfied: httplib2<1.0.0,>=0.19.0 in /usr/local/lib/python3.12/dist-packages (from google-api-python-client->google-generativeai) (0.30.0)\n",
            "Requirement already satisfied: google-auth-httplib2<1.0.0,>=0.2.0 in /usr/local/lib/python3.12/dist-packages (from google-api-python-client->google-generativeai) (0.2.0)\n",
            "Requirement already satisfied: uritemplate<5,>=3.0.1 in /usr/local/lib/python3.12/dist-packages (from google-api-python-client->google-generativeai) (4.2.0)\n",
            "Requirement already satisfied: annotated-types>=0.6.0 in /usr/local/lib/python3.12/dist-packages (from pydantic->google-generativeai) (0.7.0)\n",
            "Requirement already satisfied: pydantic-core==2.33.2 in /usr/local/lib/python3.12/dist-packages (from pydantic->google-generativeai) (2.33.2)\n",
            "Requirement already satisfied: typing-inspection>=0.4.0 in /usr/local/lib/python3.12/dist-packages (from pydantic->google-generativeai) (0.4.1)\n",
            "Requirement already satisfied: grpcio<2.0.0,>=1.33.2 in /usr/local/lib/python3.12/dist-packages (from google-api-core[grpc]!=2.0.*,!=2.1.*,!=2.10.*,!=2.2.*,!=2.3.*,!=2.4.*,!=2.5.*,!=2.6.*,!=2.7.*,!=2.8.*,!=2.9.*,<3.0.0dev,>=1.34.1->google-ai-generativelanguage==0.6.15->google-generativeai) (1.74.0)\n",
            "Requirement already satisfied: grpcio-status<2.0.0,>=1.33.2 in /usr/local/lib/python3.12/dist-packages (from google-api-core[grpc]!=2.0.*,!=2.1.*,!=2.10.*,!=2.2.*,!=2.3.*,!=2.4.*,!=2.5.*,!=2.6.*,!=2.7.*,!=2.8.*,!=2.9.*,<3.0.0dev,>=1.34.1->google-ai-generativelanguage==0.6.15->google-generativeai) (1.71.2)\n",
            "Requirement already satisfied: pyparsing<4,>=3.0.4 in /usr/local/lib/python3.12/dist-packages (from httplib2<1.0.0,>=0.19.0->google-api-python-client->google-generativeai) (3.2.3)\n",
            "Requirement already satisfied: pyasn1<0.7.0,>=0.6.1 in /usr/local/lib/python3.12/dist-packages (from pyasn1-modules>=0.2.1->google-auth>=2.15.0->google-generativeai) (0.6.1)\n",
            "Requirement already satisfied: charset_normalizer<4,>=2 in /usr/local/lib/python3.12/dist-packages (from requests<3.0.0,>=2.18.0->google-api-core->google-generativeai) (3.4.3)\n",
            "Requirement already satisfied: idna<4,>=2.5 in /usr/local/lib/python3.12/dist-packages (from requests<3.0.0,>=2.18.0->google-api-core->google-generativeai) (3.10)\n",
            "Requirement already satisfied: urllib3<3,>=1.21.1 in /usr/local/lib/python3.12/dist-packages (from requests<3.0.0,>=2.18.0->google-api-core->google-generativeai) (2.5.0)\n",
            "Requirement already satisfied: certifi>=2017.4.17 in /usr/local/lib/python3.12/dist-packages (from requests<3.0.0,>=2.18.0->google-api-core->google-generativeai) (2025.8.3)\n"
          ]
        }
      ],
      "source": [
        "# Instalar dependências necessárias\n",
        "!pip install google-generativeai pytest"
      ]
    },
    {
      "cell_type": "markdown",
      "source": [
        "## 2. Configuração da API Google Gemini\n",
        "\n",
        "Importe a biblioteca do Google Gemini e configure a chave de API usando os **Secrets do Google Colab**:\n"
      ],
      "metadata": {
        "id": "Y0r8jd9F_WKa"
      }
    },
    {
      "cell_type": "code",
      "source": [
        "import google.generativeai as genai\n",
        "import os\n",
        "import subprocess\n",
        "from google.colab import userdata, files\n",
        "\n",
        "# Configurar a API usando o Secrets do Colab\n",
        "try:\n",
        "    GEMINI_API_KEY = userdata.get('GEMINI_API_KEY')\n",
        "    genai.configure(api_key=GEMINI_API_KEY)\n",
        "    print(\"API key configurada com sucesso!\")\n",
        "except userdata.SecretNotFoundError:\n",
        "    print(\"Erro: Chave GEMINI_API_KEY não encontrada nos Secrets.\")\n",
        "    print(\"Por favor, adicione a chave em: Menu > Ferramentas > Secrets\")\n",
        "except Exception as e:\n",
        "    print(f\"Erro ao configurar API: {e}\")"
      ],
      "metadata": {
        "colab": {
          "base_uri": "https://localhost:8080/"
        },
        "id": "ihi0cKKNlpjY",
        "outputId": "4cfdfd33-aa1e-4258-c011-b9c1b9c67330"
      },
      "execution_count": null,
      "outputs": [
        {
          "output_type": "stream",
          "name": "stdout",
          "text": [
            "API key configurada com sucesso!\n"
          ]
        }
      ]
    },
    {
      "cell_type": "markdown",
      "source": [
        "## 3. Salvar e Executar Testes Unitários\n",
        "\n",
        "Para salvar o código original e os testes gerados, e em seguida executar os testes usando **pytest**, utilizamos a função `save_and_run_tests`.  \n",
        "\n",
        "Essa função realiza os seguintes passos:\n",
        "\n",
        "1. Salva o código original no arquivo fornecido  \n",
        "2. Salva os testes em um arquivo separado chamado `test_<nome_do_arquivo>`  \n",
        "3. Executa os testes com `pytest -v`  \n",
        "4. Retorna:\n",
        "   - `stdout` → saída dos testes  \n",
        "   - `stderr` → erros durante a execução  \n",
        "   - `test_filename` → nome do arquivo de testes  \n",
        "   - `success` → booleano indicando se todos os testes passaram  \n",
        "\n",
        "> Em caso de tempo limite ou erro na execução, a função retorna informações de erro apropriadas.\n",
        "\n"
      ],
      "metadata": {
        "id": "UpfUWzelAWZg"
      }
    },
    {
      "cell_type": "code",
      "source": [
        "def save_and_run_tests(original_code, tests_code, filename):\n",
        "    \"\"\"\n",
        "    Salva o código original e os testes, então executa os testes com pytest\n",
        "    \"\"\"\n",
        "    try:\n",
        "        # Salvar o código original\n",
        "        with open(filename, \"w\") as f:\n",
        "            f.write(original_code)\n",
        "\n",
        "        # Salvar os testes\n",
        "        test_filename = f\"test_{filename}\"\n",
        "        with open(test_filename, \"w\") as f:\n",
        "            f.write(tests_code)\n",
        "\n",
        "        # Executar os testes\n",
        "        result = subprocess.run(\n",
        "            [\"python\", \"-m\", \"pytest\", test_filename, \"-v\"],\n",
        "            capture_output=True,\n",
        "            text=True,\n",
        "            timeout=30\n",
        "        )\n",
        "\n",
        "        return result.stdout, result.stderr, test_filename, result.returncode == 0\n",
        "\n",
        "    except subprocess.TimeoutExpired:\n",
        "        return \"\", \"Tempo limite excedido ao executar os testes\", test_filename, False\n",
        "    except Exception as e:\n",
        "        return \"\", f\"Erro ao executar testes: {str(e)}\", test_filename, False\n",
        "\n"
      ],
      "metadata": {
        "id": "aYc7IZF6m_N2"
      },
      "execution_count": null,
      "outputs": []
    },
    {
      "cell_type": "markdown",
      "source": [
        "## 4. Gerar testes unitários automaticamente com Google Gemini\n",
        "\n",
        "Esta etapa utiliza o modelo **Gemini 1.5 Flash** para criar testes unitários em **Python** para qualquer função ou módulo fornecido. Os testes seguem as boas práticas do `pytest` e são gerados automaticamente com base no comportamento real do código.\n",
        "\n",
        "### Como funciona\n",
        "\n",
        "1. Recebe o código-fonte Python e o nome do arquivo original.\n",
        "2. Cria um prompt detalhado para o Gemini, instruindo o modelo a:\n",
        "   - Analisar o comportamento real da função.\n",
        "   - Gerar casos de teste apenas para funcionalidades implementadas.\n",
        "   - Incluir testes de sucesso e falha (quando aplicável).\n",
        "   - Usar `pytest.raises` somente para exceções realmente levantadas.\n",
        "   - Garantir que o código gerado comece com `import pytest`.\n",
        "3. Limpa o código gerado, removendo marcações de Markdown e explicações textuais.\n",
        "4. Salva os testes em arquivo e permite execução automática para validação.\n",
        "\n",
        "### Observações importantes\n",
        "\n",
        "- Funções de teste sempre começam com `test_`.\n",
        "- Casos de teste incluem asserts para verificar resultados esperados.\n",
        "- É recomendado revisar os testes gerados antes de adicionar em produção, principalmente para códigos complexos.\n",
        "\n",
        "Com esta abordagem, é possível acelerar a criação de testes unitários e garantir cobertura básica automática para funções Python.\n"
      ],
      "metadata": {
        "id": "LBGBhZN8_gu4"
      }
    },
    {
      "cell_type": "code",
      "source": [
        "def generate_unit_tests(code: str, filename: str) -> str:\n",
        "    \"\"\"\n",
        "    Gera testes unitários para um código Python usando o Gemini 1.5 Flash\n",
        "    e remove quaisquer marcações de markdown da resposta\n",
        "    \"\"\"\n",
        "    prompt = f\"\"\"\n",
        "    Gere testes unitários completos usando pytest para o seguinte código Python.\n",
        "\n",
        "    REGRAS IMPORTANTES:\n",
        "    1. Analise cuidadosamente o comportamento real da função\n",
        "    2. Teste apenas o que a função realmente faz, não assuma comportamentos\n",
        "    3. Não crie testes para funcionalidades que não estão implementadas\n",
        "    4. Para exceções, use pytest.raises apenas para exceções que a função realmente levanta\n",
        "    5. Se a função não verifica tipos, não crie testes para tipos inválidos\n",
        "\n",
        "    Inclua:\n",
        "    1. Import pytest na primeira linha\n",
        "    2. Importe as funções necessárias do código original\n",
        "    3. Funções de teste com nomes que começam com 'test_'\n",
        "    4. Casos de teste para sucesso e para falha quando aplicável\n",
        "    5. Use asserts para verificar os resultados\n",
        "    6. Trate casos de exceção com pytest.raises quando necessário\n",
        "\n",
        "    O nome do arquivo original é: {filename}\n",
        "\n",
        "    Retorne APENAS o código Python pronto para executar, sem explicações ou markdown.\n",
        "    NÃO use ```python ou qualquer outra marcação de código.\n",
        "\n",
        "    Código:\n",
        "    {code}\n",
        "    \"\"\"\n",
        "\n",
        "    try:\n",
        "        # Usar o modelo Gemini 1.5 Flash\n",
        "        model = genai.GenerativeModel('gemini-1.5-flash')\n",
        "        response = model.generate_content(prompt)\n",
        "\n",
        "        # Extrair o código dos testes\n",
        "        tests_code = response.text.strip()\n",
        "\n",
        "        # Remover marcações de markdown (```python e ```)\n",
        "        tests_code = tests_code.replace(\"```python\", \"\").replace(\"```\", \"\")\n",
        "\n",
        "        # Remover possíveis explicações textuais antes do código\n",
        "        if \"import pytest\" in tests_code:\n",
        "            tests_code = tests_code[tests_code.find(\"import pytest\"):]\n",
        "\n",
        "        # Garantir que começa com import pytest\n",
        "        if not tests_code.startswith(\"import pytest\"):\n",
        "            tests_code = \"import pytest\\n\" + tests_code\n",
        "\n",
        "        return tests_code\n",
        "    except Exception as e:\n",
        "        return f\"Erro ao gerar testes: {str(e)}\"\n",
        "\n",
        "# Função auxiliar para validar e limpar o código de testes\n",
        "def clean_test_code(tests_code: str) -> str:\n",
        "    \"\"\"\n",
        "    Remove marcações de markdown e garante que o código está limpo\n",
        "    \"\"\"\n",
        "    # Remover marcações de markdown\n",
        "    tests_code = tests_code.replace(\"```python\", \"\").replace(\"```\", \"\")\n",
        "\n",
        "    # Remover linhas vazias no início\n",
        "    tests_code = tests_code.strip()\n",
        "\n",
        "    # Garantir que começa com import pytest\n",
        "    if not tests_code.startswith(\"import pytest\"):\n",
        "        tests_code = \"import pytest\\n\" + tests_code\n",
        "\n",
        "    return tests_code\n",
        "\n",
        "# Atualizar a função process_file para usar a limpeza\n",
        "def process_file(file_path):\n",
        "    \"\"\"\n",
        "    Processa um arquivo Python e gera testes automaticamente\n",
        "    \"\"\"\n",
        "    try:\n",
        "        # Ler o arquivo\n",
        "        with open(file_path, \"r\") as f:\n",
        "            code = f.read()\n",
        "\n",
        "        # Extrair nome do arquivo\n",
        "        filename = os.path.basename(file_path)\n",
        "\n",
        "        print(f\"Gerando testes para {filename} usando Gemini 1.5 Flash...\")\n",
        "\n",
        "        # Gerar testes\n",
        "        tests = generate_unit_tests(code, filename)\n",
        "\n",
        "        if tests.startswith(\"Erro ao gerar testes\"):\n",
        "            print(tests)\n",
        "            return None, False\n",
        "\n",
        "        # Limpar o código de testes\n",
        "        clean_tests = clean_test_code(tests)\n",
        "\n",
        "        # Salvar e executar testes\n",
        "        output, error, test_filename, success = save_and_run_tests(code, clean_tests, filename)\n",
        "\n",
        "        print(f\"Testes salvos em {test_filename}\")\n",
        "        print(\"Saída dos testes:\")\n",
        "        print(output)\n",
        "\n",
        "        if error:\n",
        "            print(\"Erros:\")\n",
        "            print(error)\n",
        "\n",
        "        if success:\n",
        "            print(\"Todos os testes passaram!\")\n",
        "        else:\n",
        "            print(\"Alguns testes falharam ou ocorreu um erro\")\n",
        "\n",
        "        return clean_tests, success\n",
        "\n",
        "    except Exception as e:\n",
        "        print(f\"Erro ao processar arquivo: {e}\")\n",
        "        return None, False\n"
      ],
      "metadata": {
        "id": "vy_I8sR8m0N6"
      },
      "execution_count": null,
      "outputs": []
    },
    {
      "cell_type": "markdown",
      "source": [
        "## 5. Criar arquivos de exemplo para testes unitários\n",
        "\n",
        "Antes de gerar os testes automáticos, criamos dois arquivos Python simples para servir de exemplo\n"
      ],
      "metadata": {
        "id": "f296n29y_-oL"
      }
    },
    {
      "cell_type": "code",
      "source": [
        "# Criar arquivo com função de soma\n",
        "soma_code = \"\"\"\n",
        "def soma(a, b):\n",
        "    return a + b\n",
        "\"\"\"\n",
        "\n",
        "with open(\"soma.py\", \"w\") as f:\n",
        "    f.write(soma_code)\n",
        "\n",
        "# Criar arquivo com função de divisão\n",
        "divisao_code = \"\"\"\n",
        "def divisao(a, b):\n",
        "    if b == 0:\n",
        "        raise ValueError(\"Divisão por zero não é permitida\")\n",
        "    return a / b\n",
        "\"\"\"\n",
        "\n",
        "with open(\"divisao.py\", \"w\") as f:\n",
        "    f.write(divisao_code)"
      ],
      "metadata": {
        "id": "zhX-G2Uym1AZ"
      },
      "execution_count": null,
      "outputs": []
    },
    {
      "cell_type": "markdown",
      "source": [
        "## 6. Processar Arquivos de Exemplo\n",
        "\n",
        "Para testar o sistema de geração automática de testes unitários, criamos dois arquivos de exemplo:\n",
        "\n",
        "1. **soma.py** → contém a função `soma(a, b)`  \n",
        "2. **divisao.py** → contém a função `divisao(a, b)` com tratamento de exceção para divisão por zero  \n",
        "\n",
        "Em seguida, utilizamos a função `process_file` para gerar e executar os testes unitários para cada arquivo:\n"
      ],
      "metadata": {
        "id": "XYhTnRRWA3ae"
      }
    },
    {
      "cell_type": "code",
      "source": [
        "# Processar os arquivos de exemplo\n",
        "print(\"PROCESSANDO ARQUIVOS DE EXEMPLO\")\n",
        "process_file(\"soma.py\")\n",
        "process_file(\"divisao.py\")\n"
      ],
      "metadata": {
        "colab": {
          "base_uri": "https://localhost:8080/",
          "height": 711
        },
        "id": "EG2AIfCcnCUR",
        "outputId": "8ed9a6b9-0e14-4d78-da24-9ff0c6517a1b"
      },
      "execution_count": null,
      "outputs": [
        {
          "output_type": "stream",
          "name": "stdout",
          "text": [
            "PROCESSANDO ARQUIVOS DE EXEMPLO\n",
            "Gerando testes para soma.py usando Gemini 1.5 Flash...\n",
            "Testes salvos em test_soma.py\n",
            "Saída dos testes:\n",
            "============================= test session starts ==============================\n",
            "platform linux -- Python 3.12.11, pytest-8.4.2, pluggy-1.6.0 -- /usr/bin/python3\n",
            "cachedir: .pytest_cache\n",
            "rootdir: /content\n",
            "plugins: typeguard-4.4.4, langsmith-0.4.27, anyio-4.10.0\n",
            "collecting ... collected 5 items\n",
            "\n",
            "test_soma.py::test_soma_inteiros_positivos PASSED                        [ 20%]\n",
            "test_soma.py::test_soma_inteiros_negativos PASSED                        [ 40%]\n",
            "test_soma.py::test_soma_inteiro_positivo_e_negativo PASSED               [ 60%]\n",
            "test_soma.py::test_soma_zero PASSED                                      [ 80%]\n",
            "test_soma.py::test_soma_com_zero PASSED                                  [100%]\n",
            "\n",
            "============================== 5 passed in 0.11s ===============================\n",
            "\n",
            " Todos os testes passaram!\n",
            "Gerando testes para divisao.py usando Gemini 1.5 Flash...\n",
            "Testes salvos em test_divisao.py\n",
            "Saída dos testes:\n",
            "============================= test session starts ==============================\n",
            "platform linux -- Python 3.12.11, pytest-8.4.2, pluggy-1.6.0 -- /usr/bin/python3\n",
            "cachedir: .pytest_cache\n",
            "rootdir: /content\n",
            "plugins: typeguard-4.4.4, langsmith-0.4.27, anyio-4.10.0\n",
            "collecting ... collected 2 items\n",
            "\n",
            "test_divisao.py::test_divisao_sucesso PASSED                             [ 50%]\n",
            "test_divisao.py::test_divisao_zero PASSED                                [100%]\n",
            "\n",
            "============================== 2 passed in 0.02s ===============================\n",
            "\n",
            " Todos os testes passaram!\n"
          ]
        },
        {
          "output_type": "execute_result",
          "data": {
            "text/plain": [
              "('import pytest\\nfrom divisao import divisao\\n\\ndef test_divisao_sucesso():\\n    assert divisao(10, 2) == 5.0\\n    assert divisao(5, 1) == 5.0\\n    assert divisao(-10, 2) == -5.0\\n    assert divisao(10, -2) == -5.0\\n    assert divisao(0, 5) == 0.0\\n\\ndef test_divisao_zero():\\n    with pytest.raises(ValueError) as excinfo:\\n        divisao(10, 0)\\n    assert str(excinfo.value) == \"Divisão por zero não é permitida\"',\n",
              " True)"
            ]
          },
          "metadata": {},
          "execution_count": 6
        }
      ]
    }
  ]
}